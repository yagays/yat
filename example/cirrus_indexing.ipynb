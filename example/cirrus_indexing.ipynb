{
 "cells": [
  {
   "cell_type": "markdown",
   "metadata": {},
   "source": [
    "# Wikipediaからの変換辞書作成\n",
    "\n",
    "ここでは、Wikipedia Cirrusのダンプデータを用いて、単語とidの対応表を作成します。\n",
    "\n",
    "利用するファイルは以下URLから取得できます。今回は`20180611`にダンプされたファイル`jawiki-20180611-cirrussearch-content.json.gz`を利用します。\n",
    "\n",
    "[Index of /other/cirrussearch/](https://dumps.wikimedia.org/other/cirrussearch/)"
   ]
  },
  {
   "cell_type": "code",
   "execution_count": 1,
   "metadata": {},
   "outputs": [],
   "source": [
    "%matplotlib inline\n",
    "import json\n",
    "import gzip\n",
    "\n",
    "import yat\n",
    "import pandas as pd\n",
    "from tqdm import tqdm_notebook as tqdm"
   ]
  },
  {
   "cell_type": "code",
   "execution_count": 2,
   "metadata": {},
   "outputs": [
    {
     "data": {
      "application/vnd.jupyter.widget-view+json": {
       "model_id": "258d6e2e2d4b4da2b7e10c54729c225b",
       "version_major": 2,
       "version_minor": 0
      },
      "text/plain": [
       "HBox(children=(IntProgress(value=0, max=2219228), HTML(value='')))"
      ]
     },
     "metadata": {},
     "output_type": "display_data"
    },
    {
     "name": "stdout",
     "output_type": "stream",
     "text": [
      "\n"
     ]
    }
   ],
   "source": [
    "tokenizer = yat.Tokenizer()\n",
    "\n",
    "with gzip.open(\"../trunk/jawiki-20180611-cirrussearch-content.json.gz\") as f:\n",
    "    for line in tqdm(f, total=2219228):\n",
    "        json_line = json.loads(line)\n",
    "\n",
    "        if \"index\" not in json_line:\n",
    "            tokenizer.fit_on_text(json_line[\"text\"])"
   ]
  },
  {
   "cell_type": "markdown",
   "metadata": {},
   "source": [
    "## 統計情報\n"
   ]
  },
  {
   "cell_type": "code",
   "execution_count": 3,
   "metadata": {},
   "outputs": [
    {
     "name": "stdout",
     "output_type": "stream",
     "text": [
      "語彙数:  5705016\n"
     ]
    }
   ],
   "source": [
    "print(\"語彙数: \", tokenizer.word_index)"
   ]
  },
  {
   "cell_type": "markdown",
   "metadata": {},
   "source": [
    "## 変換表の保存\n",
    "今後この変換表を再利用するために、ファイルに書き出します。"
   ]
  },
  {
   "cell_type": "code",
   "execution_count": 4,
   "metadata": {},
   "outputs": [],
   "source": [
    "tokenizer.save_as_text(\"wikipedia_all_tokens.tsv\")"
   ]
  },
  {
   "cell_type": "markdown",
   "metadata": {},
   "source": [
    "## 補足:EDA\n",
    "せっかくなので、[言語処理100本ノック 2015](http://www.cl.ecei.tohoku.ac.jp/nlp100/)の「39. Zipfの法則」にあるZipf則を確認してみます。"
   ]
  },
  {
   "cell_type": "code",
   "execution_count": 5,
   "metadata": {},
   "outputs": [],
   "source": [
    "df = pd.DataFrame([[k.surface, k.feature, v] for k, v in tokenizer.word_counts.items()],\n",
    "                  columns=[\"surface\", \"feature\", \"count\"])"
   ]
  },
  {
   "cell_type": "code",
   "execution_count": 6,
   "metadata": {},
   "outputs": [],
   "source": [
    "df[\"rank\"] = df[\"count\"].rank(ascending=False).astype(int)"
   ]
  },
  {
   "cell_type": "code",
   "execution_count": 7,
   "metadata": {},
   "outputs": [
    {
     "data": {
      "text/html": [
       "<div>\n",
       "<style scoped>\n",
       "    .dataframe tbody tr th:only-of-type {\n",
       "        vertical-align: middle;\n",
       "    }\n",
       "\n",
       "    .dataframe tbody tr th {\n",
       "        vertical-align: top;\n",
       "    }\n",
       "\n",
       "    .dataframe thead th {\n",
       "        text-align: right;\n",
       "    }\n",
       "</style>\n",
       "<table border=\"1\" class=\"dataframe\">\n",
       "  <thead>\n",
       "    <tr style=\"text-align: right;\">\n",
       "      <th></th>\n",
       "      <th>surface</th>\n",
       "      <th>feature</th>\n",
       "      <th>count</th>\n",
       "      <th>rank</th>\n",
       "    </tr>\n",
       "  </thead>\n",
       "  <tbody>\n",
       "    <tr>\n",
       "      <th>0</th>\n",
       "      <td>ほう</td>\n",
       "      <td>感動詞</td>\n",
       "      <td>4642</td>\n",
       "      <td>15326</td>\n",
       "    </tr>\n",
       "    <tr>\n",
       "      <th>1</th>\n",
       "      <td>おう</td>\n",
       "      <td>動詞</td>\n",
       "      <td>8269</td>\n",
       "      <td>9811</td>\n",
       "    </tr>\n",
       "    <tr>\n",
       "      <th>2</th>\n",
       "      <td>座</td>\n",
       "      <td>名詞</td>\n",
       "      <td>89053</td>\n",
       "      <td>1156</td>\n",
       "    </tr>\n",
       "    <tr>\n",
       "      <th>3</th>\n",
       "      <td>（</td>\n",
       "      <td>記号</td>\n",
       "      <td>16276511</td>\n",
       "      <td>11</td>\n",
       "    </tr>\n",
       "    <tr>\n",
       "      <th>4</th>\n",
       "      <td>鳳凰</td>\n",
       "      <td>名詞</td>\n",
       "      <td>3454</td>\n",
       "      <td>19040</td>\n",
       "    </tr>\n",
       "  </tbody>\n",
       "</table>\n",
       "</div>"
      ],
      "text/plain": [
       "  surface feature     count   rank\n",
       "0      ほう     感動詞      4642  15326\n",
       "1      おう      動詞      8269   9811\n",
       "2       座      名詞     89053   1156\n",
       "3       （      記号  16276511     11\n",
       "4      鳳凰      名詞      3454  19040"
      ]
     },
     "execution_count": 7,
     "metadata": {},
     "output_type": "execute_result"
    }
   ],
   "source": [
    "df.head()"
   ]
  },
  {
   "cell_type": "code",
   "execution_count": 8,
   "metadata": {},
   "outputs": [
    {
     "data": {
      "text/plain": [
       "<matplotlib.axes._subplots.AxesSubplot at 0x16e77d240>"
      ]
     },
     "execution_count": 8,
     "metadata": {},
     "output_type": "execute_result"
    },
    {
     "data": {
      "image/png": "[encoded data removed]",
      "text/plain": [
       "<Figure size 432x288 with 1 Axes>"
      ]
     },
     "metadata": {},
     "output_type": "display_data"
    }
   ],
   "source": [
    "df.plot.scatter(x=\"rank\", y=\"count\", loglog=True)"
   ]
  }
 ],
 "metadata": {
  "kernelspec": {
   "display_name": "Python 3",
   "language": "python",
   "name": "python3"
  },
  "language_info": {
   "codemirror_mode": {
    "name": "ipython",
    "version": 3
   },
   "file_extension": ".py",
   "mimetype": "text/x-python",
   "name": "python",
   "nbconvert_exporter": "python",
   "pygments_lexer": "ipython3",
   "version": "3.6.3"
  }
 },
 "nbformat": 4,
 "nbformat_minor": 2
}
